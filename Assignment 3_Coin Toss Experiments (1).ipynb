{
 "cells": [
  {
   "cell_type": "markdown",
   "id": "47b31daf-ca0e-411f-914e-aec17c61a47a",
   "metadata": {
    "tags": []
   },
   "source": [
    "## 1. Single coint toss (Classical Computer)"
   ]
  },
  {
   "cell_type": "markdown",
   "id": "b4d947fd-966d-48b9-bb7a-128d4447c8aa",
   "metadata": {},
   "source": [
    "In the single coin toss game with bits, the player chooses the side of the coin with which the player wants to start before tossing the coin once and recording the result."
   ]
  },
  {
   "cell_type": "markdown",
   "id": "e27df7e8-8d47-4b71-ba9f-1a55d46b955f",
   "metadata": {},
   "source": [
    "To be able to program the game we first have to import the function random. Additionally, to visualize our results we also import pyplot from matplotlibrary."
   ]
  },
  {
   "cell_type": "code",
   "execution_count": 1,
   "id": "828e2987-496b-42ce-9570-f205bd0892ad",
   "metadata": {},
   "outputs": [],
   "source": [
    "import matplotlib.pyplot as plt\n",
    "import random"
   ]
  },
  {
   "cell_type": "markdown",
   "id": "0c137080-2628-484f-9ad5-4c9435445fcc",
   "metadata": {},
   "source": [
    "The following code is used to define a function which enables us to play the coin toss game where a coin is always tossed once. The function includes the most important variables and game rules such as the initial coin state as well as the winning goal. \n",
    "The random function is used to simulate the fair coin toss and can return 0s and 1s. When the random function returns 0 it indicates that the coin landed on the side which was initially chosen by the player. On the other hand, 1 means that the coin is flipped.\n",
    "This rule is captured by the if / else if condition in the code, which states that if the initial coin state that was chosen is “Heads” each 0 means that the recorded result is “Heads”. However, when the random function returns 1, the result recorded in this example would be “Tails”. If the initial coin state that was chosen is “Tails” the rule works in the same way. \n",
    "\n",
    "The command at the end of the code calculates the percentage of “Heads” vs. “Tails” as outcomes and visualizes the results by using a plot. "
   ]
  },
  {
   "cell_type": "code",
   "execution_count": 2,
   "id": "72f1fe6c-d198-45da-b3ad-2e1a6731f9f3",
   "metadata": {},
   "outputs": [],
   "source": [
    "def single_coin_toss():    \n",
    "    initial_coin_state = input('Type \"Heads\" or \"Tails\" to select the inital coin state: ')\n",
    "    \n",
    "    nr_of_flips = int(input('Enter the number of times you want to repeat the coin toss game: '))\n",
    "        \n",
    "    #If 0 = coin is not flipped; 1 = coin is flipped    \n",
    "        \n",
    "    samples = [random.randint(0, 1) for i in range(nr_of_flips)]\n",
    "    \n",
    "    if initial_coin_state == 'Heads':\n",
    "        heads = samples.count(0)\n",
    "        tails = samples.count(1)\n",
    "    elif initial_coin_state == 'Tails': \n",
    "        tails = samples.count(0)\n",
    "        heads = samples.count(1)        \n",
    "\n",
    "    print(\"Heads count=%d, Tails count=%d\" % (heads, tails))\n",
    "    \n",
    "    names = ['Heads', 'Tails']\n",
    "    \n",
    "    values = [heads/nr_of_flips, tails/nr_of_flips]\n",
    "    plt.bar(names, values)\n",
    "    plt.ylabel('Probability')"
   ]
  },
  {
   "cell_type": "markdown",
   "id": "7fa7042b-cc83-442f-a922-e0eee3d32da6",
   "metadata": {},
   "source": [
    "After entering the function, the code will ask you if you would like to choose “Heads” or “Tails” as the initial coin state. In the next step you are asked to enter the number of times the coin toss game should be repeated. Please make sure that you write “Heads” and “Tails” properly (with capital letter in the beginning) to avoid a misfunctioning of the code. \n",
    "As a result, you will receive a plot which visualizes how often “Tails” and “Heads” occur."
   ]
  },
  {
   "cell_type": "code",
   "execution_count": 3,
   "id": "f4ea0204-14b3-4116-a704-d85b6565d6bf",
   "metadata": {},
   "outputs": [
    {
     "name": "stdin",
     "output_type": "stream",
     "text": [
      "Type \"Heads\" or \"Tails\" to select the inital coin state:  Heads\n",
      "Enter the number of times you want to repeat the coin toss game:  10000\n"
     ]
    },
    {
     "name": "stdout",
     "output_type": "stream",
     "text": [
      "Heads count=4988, Tails count=5012\n"
     ]
    },
    {
     "data": {
      "image/png": "[encoded data removed]",
      "text/plain": [
       "<Figure size 432x288 with 1 Axes>"
      ]
     },
     "metadata": {
      "needs_background": "light"
     },
     "output_type": "display_data"
    }
   ],
   "source": [
    "single_coin_toss()"
   ]
  },
  {
   "cell_type": "markdown",
   "id": "b1ed8550-11a5-4d0e-94ac-32de0182c118",
   "metadata": {},
   "source": [
    "Open a new notebook in the IBM Quantum Lab and copy the code for the single coin toss experiment on a classical computer and repeat the function five times while variing the number of flips as well as the initial coin state and tracking the results. What do you notice?\n",
    "\n",
    "Don’t worry if your results are never exactly equally distributed. As you know from statistics the result will get closer with increasing number of trials until a perfect distribution would be reached. "
   ]
  },
  {
   "cell_type": "markdown",
   "id": "95beb6fd-0f54-4cfb-afa8-e6f959605bda",
   "metadata": {},
   "source": [
    "## 2. Double coin toss (Classical Computer)"
   ]
  },
  {
   "cell_type": "markdown",
   "id": "46012c15-452c-4150-ac85-7ef01577fbfc",
   "metadata": {},
   "source": [
    "In the next experiment a fair coin is tossed two times in a row and the result is measured after the second toss. You might think this exercise is a repitition of the first experiment, however it’s purpose will become clearer when playing the same game with a quantum coin."
   ]
  },
  {
   "cell_type": "markdown",
   "id": "4c395fcd-d976-413e-b913-27cfb132350d",
   "metadata": {},
   "source": [
    "Similar to the first exercise please execute the double_coin_toss function. \n",
    "The main difference in the code can be noticed when comparing the if / else if condition in the function. It basically says that if the initial coin state is “Heads” we can record “Heads” as a result under the following circumstances: \n",
    "    o The random function returns 0 for both tosses \n",
    "    o The random function returns 1 for both tosses\n",
    "\n",
    "However, when the random function returns 1 for one of both tosses the recorded result will be “Tails”. \n",
    "\n",
    "In case the initial coin state that was chosen is “Tails” the if else condition works in the same way. "
   ]
  },
  {
   "cell_type": "code",
   "execution_count": 4,
   "id": "e901d8fe-a813-4f8e-ad20-93f78c59a78f",
   "metadata": {},
   "outputs": [],
   "source": [
    "def double_coin_toss():\n",
    "    initial_coin_state = input('Type \"Heads\" or \"Tails\" to select the inital coin state: ')\n",
    "    \n",
    "    nr_of_flips = int(input('Enter the number of times you want to repeat the coin toss game: '))\n",
    "        \n",
    "    #If 0 = coin is not flipped; 1 = coin is flipped    \n",
    "        \n",
    "    coin_results = [0] * nr_of_flips;\n",
    "    \n",
    "    for c in range (nr_of_flips):\n",
    "    \n",
    "        samples = [random.randint(0, 1) for c in range(2)]\n",
    "                \n",
    "        if initial_coin_state == 'Heads':\n",
    "            if samples[0] == 1 and samples [1] == 1 or samples[0] == 0 and samples [1] == 0:\n",
    "                coin_results[c] = 0; \n",
    "            elif samples[0] == 1 and samples [1] == 0 or samples[0] == 0 and samples [1] == 1:\n",
    "                coin_results[c] = 1; \n",
    "        elif initial_coin_state == 'Tails':\n",
    "            if samples[0] == 1 and samples [1] == 1 or samples[0] == 0 and samples [1] == 0:\n",
    "                coin_results[c] = 1; \n",
    "            elif samples[0] == 1 and samples [1] == 0 or samples[0] == 0 and samples [1] == 1:\n",
    "                coin_results[c] = 0;                 \n",
    "        \n",
    "    heads = coin_results.count(0);\n",
    "    tails = coin_results.count(1);\n",
    "    \n",
    "    print(\"Heads count=%d, Tails count=%d\" % (heads, tails))\n",
    "    \n",
    "    names = ['Heads', 'Tails']\n",
    "        \n",
    "    values = [heads/nr_of_flips, tails/nr_of_flips]\n",
    "    plt.bar(names, values)\n",
    "    plt.ylabel('Probability')"
   ]
  },
  {
   "cell_type": "markdown",
   "id": "c00570dc-48a1-46c0-a570-db2928f559b5",
   "metadata": {},
   "source": [
    "Type in the function name, execute the code, choose the initial coin state and enter the number of times you want to repeat the double coin toss game.\n",
    "Similar to the first experiment the results of the double coin toss game will be visualized in a graph. Please compare this result to the single coin toss experiment – what do you notice?"
   ]
  },
  {
   "cell_type": "code",
   "execution_count": 5,
   "id": "d5c7f65c-8c88-4cbd-80e3-5ff297c0f4d3",
   "metadata": {},
   "outputs": [
    {
     "name": "stdin",
     "output_type": "stream",
     "text": [
      "Type \"Heads\" or \"Tails\" to select the inital coin state:  Heads\n",
      "Enter the number of times you want to repeat the coin toss game:  10000\n"
     ]
    },
    {
     "name": "stdout",
     "output_type": "stream",
     "text": [
      "Heads count=4974, Tails count=5026\n"
     ]
    },
    {
     "data": {
      "image/png": "[encoded data removed]",
      "text/plain": [
       "<Figure size 432x288 with 1 Axes>"
      ]
     },
     "metadata": {
      "needs_background": "light"
     },
     "output_type": "display_data"
    }
   ],
   "source": [
    "double_coin_toss()"
   ]
  },
  {
   "cell_type": "markdown",
   "id": "b86c65c3-9e20-42b2-8dbb-b108b49a6798",
   "metadata": {},
   "source": [
    "## 3. Single coin toss (Quantum Computer)"
   ]
  },
  {
   "cell_type": "markdown",
   "id": "c79e5ef2-b82b-484f-9f1a-d22c802a3b35",
   "metadata": {},
   "source": [
    "Now we will execute a code for the same game by using a quantum simulator. Instead of working with bits like in the first two exercises we now use qubits to play the game. This change will lead to differences in the outcome – so be careful when analyzing the results. "
   ]
  },
  {
   "cell_type": "markdown",
   "id": "33f6b8a1-0833-467b-a603-df02478ceb09",
   "metadata": {},
   "source": [
    "To get in touch with quantum let’s start with importing the required tools with the code below: QASM simulator, Visualization, matplotlib.pyplot and load the account information. QASM simulator will allow us to execute the game like on a real quantum device. "
   ]
  },
  {
   "cell_type": "code",
   "execution_count": 6,
   "id": "6ebffbe7-0910-44a2-9eb2-a28344db4fd7",
   "metadata": {},
   "outputs": [],
   "source": [
    "from qiskit import QuantumCircuit, execute, Aer, IBMQ\n",
    "from qiskit.tools.monitor import job_monitor\n",
    "\n",
    "# Import visualization\n",
    "from qiskit.visualization import plot_histogram, plot_bloch_multivector\n",
    "import matplotlib.pyplot as plt\n",
    "\n",
    "#Load account information \n",
    "IBMQ.load_account()\n",
    "provider = IBMQ.get_provider()"
   ]
  },
  {
   "cell_type": "markdown",
   "id": "504096ff-363e-41d8-86b3-2a8b9fc60ff1",
   "metadata": {},
   "source": [
    "With the code below, we first create a quantum circuit with only one single qubit.\n",
    "single_quantum_coin_toss is the name of the function that will define the most important variables of our quantum game.\n",
    "qc1 is the name of the quantum circuit and (1,1) indicates that we are about to create one qubit and one classical bit to measure the state of the qubit. You will learn in the next tutorials why it is not possible to measure qubits by themselves. \n",
    "Similar to bits, qubits can have the states 0 and 1. As learned in assignment 1, in quantum physics a phenomenon called superposition allows the qubit to have any state between 0 and 1. In our function this superposition is reached by executing a Hadamard-gate with the command “qc1.h(0)”. If you have problems to imagine this situation, think about a coin which is flipped. Superposition can be imagined as the condition when the coin is in the air. At this point the outcome is uncertain as the coin can either land on “Heads” or “Tails”. Only after measuring the qubit with the command qc1.measure(0,0) we know the final outcome. \n",
    "Another side note is that the initial state of a qubit is always zero – which we refer to “Heads” in our experiment. To be able to start our experiment with a coin showing “Tails” we need to change the state of the qubit to 1 by applying a X-gate with the command qc1.x(0)."
   ]
  },
  {
   "cell_type": "code",
   "execution_count": 7,
   "id": "6cf4637a-d199-4c12-be34-c9fbc43237b8",
   "metadata": {},
   "outputs": [],
   "source": [
    "def single_quantum_coin_toss(): \n",
    "    qc1 = QuantumCircuit(1,1)\n",
    "    \n",
    "    initial_coin_state = input('Type \"Heads\" or \"Tails\" to select the inital coin state: ')\n",
    "    \n",
    "    nr_of_flips = int(input('Enter the number of times you want to repeat the coin toss game: '))\n",
    "    \n",
    "    if initial_coin_state == \"Heads\": \n",
    "        qc1.h(0) #A Hadamard gate that creates a superposition\n",
    "        qc1.measure(0,0)\n",
    "    elif initial_coin_state == \"Tails\": \n",
    "        qc1.x(0) #Change qubit from Heads to Tails \n",
    "        qc1.h(0) #A Hadamard gate that creates a superposition\n",
    "        qc1.measure(0,0)    \n",
    "\n",
    "    backend = Aer.get_backend('qasm_simulator')\n",
    "\n",
    "    job = execute(qc1, backend, shots=nr_of_flips)\n",
    "\n",
    "    print(job.result().get_counts())"
   ]
  },
  {
   "cell_type": "markdown",
   "id": "d815830f-0fd2-482b-b6fc-945c8e44683c",
   "metadata": {},
   "source": [
    "Similar to the normal coin toss exercise, you need to execute the function. Then you are again asked to choose the initial coin state and enter the number of times you want to repeat the coin toss. You will receive the result only numerically. \n",
    "In the example below we chose “Tails” as initial coin state and tossed the coin 10,000 times. In this case “Heads” appeared 5,007 times while the coin landed on “Tails” for 4,993 times"
   ]
  },
  {
   "cell_type": "code",
   "execution_count": 8,
   "id": "a5563028-8c07-41ab-b01b-a9a31a6314e4",
   "metadata": {},
   "outputs": [
    {
     "name": "stdin",
     "output_type": "stream",
     "text": [
      "Type \"Heads\" or \"Tails\" to select the inital coin state:  Heads\n",
      "Enter the number of times you want to repeat the coin toss game:  10000\n"
     ]
    },
    {
     "name": "stderr",
     "output_type": "stream",
     "text": [
      "<frozen importlib._bootstrap>:219: RuntimeWarning: scipy._lib.messagestream.MessageStream size changed, may indicate binary incompatibility. Expected 56 from C header, got 64 from PyObject\n"
     ]
    },
    {
     "name": "stdout",
     "output_type": "stream",
     "text": [
      "{'0': 5034, '1': 4966}\n"
     ]
    }
   ],
   "source": [
    "single_quantum_coin_toss()"
   ]
  },
  {
   "cell_type": "markdown",
   "id": "d8057266-1888-44bd-91be-86ee861498be",
   "metadata": {},
   "source": [
    "To visualize your results, you have to adapt the variable “values” in the following code. The denominator (in this example 10,000) of both fractions is the number of times you decided to repeat the coin toss game. The numerator of the first fraction corresponds to the number of times the coin showed “Heads” and consequently the numerator of the second fraction equals the number of times the coin showed “Tails”."
   ]
  },
  {
   "cell_type": "code",
   "execution_count": 9,
   "id": "47adb4f1-22d1-426e-88f4-faa4a685a8d6",
   "metadata": {},
   "outputs": [
    {
     "data": {
      "text/plain": [
       "Text(0, 0.5, 'Probability')"
      ]
     },
     "execution_count": 9,
     "metadata": {},
     "output_type": "execute_result"
    },
    {
     "data": {
      "image/png": "[encoded data removed]",
      "text/plain": [
       "<Figure size 432x288 with 1 Axes>"
      ]
     },
     "metadata": {
      "needs_background": "light"
     },
     "output_type": "display_data"
    }
   ],
   "source": [
    "names = ['Heads', 'Tails']\n",
    "        \n",
    "values = [5034/10000, 4966/10000] \n",
    "\n",
    "plt.bar(names, values)\n",
    "plt.ylabel('Probability')"
   ]
  },
  {
   "cell_type": "markdown",
   "id": "7d9560c0-dcdf-4b37-af94-60522935cf6d",
   "metadata": {},
   "source": [
    "Do you notice any difference compared to the single coin toss experiment with the normal coin? Discuss your thoughts with your team.\n",
    "We can conclude that in a single quantum coin toss experiment the probability of winning or losing is exactly the same compared to the normal coin toss experiment. "
   ]
  },
  {
   "cell_type": "markdown",
   "id": "52c718e5-4e0d-4c07-ab6c-5401725f1108",
   "metadata": {},
   "source": [
    "## 4. Double coin toss (Quantum Computer)"
   ]
  },
  {
   "cell_type": "markdown",
   "id": "b28c6713-fd3a-46c0-85e4-91420408ef77",
   "metadata": {},
   "source": [
    "Now we will program the game one more time but now we will toss the quantum coin two times in a row and record the result after the second toss."
   ]
  },
  {
   "cell_type": "markdown",
   "id": "772e3735-b48a-422e-a521-d2cb42b480bd",
   "metadata": {},
   "source": [
    "When you compare the code for the single quantum coin toss function with the function below, you will notice that the only difference is that in the double quantum coin toss function we apply two Hadamard-gates on the same qubit. Using two instead of one Hadamard-gate illustrates that the coin is tossed twice and not only one time as in the previous section.  "
   ]
  },
  {
   "cell_type": "code",
   "execution_count": 10,
   "id": "285dba3d-e1c9-45ab-a35e-1884ca872fc4",
   "metadata": {},
   "outputs": [],
   "source": [
    "def double_quantum_coin_toss(): \n",
    "    qc1 = QuantumCircuit(1,1)\n",
    "    \n",
    "    initial_coin_state = input('Type \"Heads\" or \"Tails\" to select the inital coin state: ')\n",
    "    \n",
    "    nr_of_flips = int(input('Enter the number of times you want to repeat the coin toss game: '))\n",
    "    \n",
    "    if initial_coin_state == \"Heads\": \n",
    "        qc1.h(0) #A Hadamard gate that creates a superposition\n",
    "        qc1.h(0) #A Hadamard gate that creates a superposition\n",
    "        qc1.measure(0,0)\n",
    "    elif initial_coin_state == \"Tails\": \n",
    "        qc1.x(0) #Change qubit to Tails \n",
    "        qc1.h(0) #A Hadamard gate that creates a superposition\n",
    "        qc1.h(0) #A Hadamard gate that creates a superposition\n",
    "        qc1.measure(0,0)\n",
    "              \n",
    "    backend = Aer.get_backend('qasm_simulator')\n",
    "\n",
    "    job = execute(qc1, backend, shots=nr_of_flips)\n",
    "    \n",
    "    result = job.result().get_counts()\n",
    "    \n",
    "    print(job.result().get_counts())"
   ]
  },
  {
   "cell_type": "markdown",
   "id": "9c2e2b83-e319-473a-b9ed-3da0a952c5b3",
   "metadata": {},
   "source": [
    "Execute the function, choose between “Heads” or “Tails” and enter the number of repititions like before. "
   ]
  },
  {
   "cell_type": "code",
   "execution_count": 11,
   "id": "2a050318-d3d4-411c-a953-51941151e5db",
   "metadata": {},
   "outputs": [
    {
     "name": "stdin",
     "output_type": "stream",
     "text": [
      "Type \"Heads\" or \"Tails\" to select the inital coin state:  Tails\n",
      "Enter the number of times you want to repeat the coin toss game:  10000\n"
     ]
    },
    {
     "name": "stdout",
     "output_type": "stream",
     "text": [
      "{'1': 10000}\n"
     ]
    }
   ],
   "source": [
    "double_quantum_coin_toss()"
   ]
  },
  {
   "cell_type": "markdown",
   "id": "5a7c62d8-9159-49e5-bc9f-d988d0d9c5bb",
   "metadata": {},
   "source": [
    "Let’s visualize the results again by adapting the “values” variable."
   ]
  },
  {
   "cell_type": "code",
   "execution_count": 12,
   "id": "3e7ce9c9-d7f3-4dfc-83ef-4b6fb4b28e79",
   "metadata": {},
   "outputs": [
    {
     "data": {
      "text/plain": [
       "Text(0, 0.5, 'Probability')"
      ]
     },
     "execution_count": 12,
     "metadata": {},
     "output_type": "execute_result"
    },
    {
     "data": {
      "image/png": "[encoded data removed]",
      "text/plain": [
       "<Figure size 432x288 with 1 Axes>"
      ]
     },
     "metadata": {
      "needs_background": "light"
     },
     "output_type": "display_data"
    }
   ],
   "source": [
    "names = ['Heads', 'Tails']\n",
    "        \n",
    "values = [0/10000, 10000/10000]\n",
    "\n",
    "plt.bar(names, values)\n",
    "plt.ylabel('Probability')"
   ]
  },
  {
   "cell_type": "markdown",
   "id": "1581edc6-dadc-4112-9da5-99932696e041",
   "metadata": {},
   "source": [
    "Copy the code for the double quantum coin toss experiment to your notebook in the IBM Quantum Lab and repeat the experiment at least once and choose the opposite initial coin state. What do you notice?"
   ]
  }
 ],
 "metadata": {
  "kernelspec": {
   "display_name": "Qiskit v0.35.0 (ipykernel)",
   "language": "python",
   "name": "python3"
  },
  "language_info": {
   "codemirror_mode": {
    "name": "ipython",
    "version": 3
   },
   "file_extension": ".py",
   "mimetype": "text/x-python",
   "name": "python",
   "nbconvert_exporter": "python",
   "pygments_lexer": "ipython3",
   "version": "3.8.13"
  },
  "widgets": {
   "application/vnd.jupyter.widget-state+json": {
    "state": {},
    "version_major": 2,
    "version_minor": 0
   }
  }
 },
 "nbformat": 4,
 "nbformat_minor": 5
}
