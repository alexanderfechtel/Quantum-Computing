{
 "cells": [
  {
   "cell_type": "code",
   "execution_count": 4,
   "id": "828e2987-496b-42ce-9570-f205bd0892ad",
   "metadata": {},
   "outputs": [],
   "source": [
    "import matplotlib.pyplot as plt\n",
    "import random"
   ]
  },
  {
   "cell_type": "code",
   "execution_count": 5,
   "id": "72f1fe6c-d198-45da-b3ad-2e1a6731f9f3",
   "metadata": {},
   "outputs": [],
   "source": [
    "def single_coin_toss():    \n",
    "    initial_coin_state = input('Type \"Heads\" or \"Tails\" to select the inital coin state: ')\n",
    "    \n",
    "    nr_of_flips = int(input('Enter the number of times you want to repeat the coin toss game: '))\n",
    "        \n",
    "    #If 0 = coin is not flipped; 1 = coin is flipped    \n",
    "        \n",
    "    samples = [random.randint(0, 1) for i in range(nr_of_flips)]\n",
    "    \n",
    "    if initial_coin_state == 'Heads':\n",
    "        heads = samples.count(0)\n",
    "        tails = samples.count(1)\n",
    "    elif initial_coin_state == 'Tails': \n",
    "        tails = samples.count(0)\n",
    "        heads = samples.count(1)        \n",
    "\n",
    "    print(\"Heads count=%d, Tails count=%d\" % (heads, tails))\n",
    "    \n",
    "    names = ['Heads', 'Tails']\n",
    "    \n",
    "    values = [heads/nr_of_flips, tails/nr_of_flips]\n",
    "    plt.bar(names, values)\n",
    "    plt.ylabel('Probability')"
   ]
  },
  {
   "cell_type": "code",
   "execution_count": 6,
   "id": "f4ea0204-14b3-4116-a704-d85b6565d6bf",
   "metadata": {},
   "outputs": [
    {
     "name": "stdin",
     "output_type": "stream",
     "text": [
      "Type \"Heads\" or \"Tails\" to select the inital coin state:  Heads\n",
      "Enter the number of times you want to repeat the coin toss game:  10000\n"
     ]
    },
    {
     "name": "stdout",
     "output_type": "stream",
     "text": [
      "Heads count=4930, Tails count=5070\n"
     ]
    },
    {
     "data": {
      "image/png": "[encoded data removed]",
      "text/plain": [
       "<Figure size 432x288 with 1 Axes>"
      ]
     },
     "metadata": {
      "needs_background": "light"
     },
     "output_type": "display_data"
    }
   ],
   "source": [
    "single_coin_toss()"
   ]
  },
  {
   "cell_type": "code",
   "execution_count": 7,
   "id": "e901d8fe-a813-4f8e-ad20-93f78c59a78f",
   "metadata": {},
   "outputs": [],
   "source": [
    "def double_coin_toss():\n",
    "    initial_coin_state = input('Type \"Heads\" or \"Tails\" to select the inital coin state: ')\n",
    "    \n",
    "    nr_of_flips = int(input('Enter the number of times you want to repeat the coin toss game: '))\n",
    "        \n",
    "    #If 0 = coin is not flipped; 1 = coin is flipped    \n",
    "        \n",
    "    coin_results = [0] * nr_of_flips;\n",
    "    \n",
    "    for c in range (nr_of_flips):\n",
    "    \n",
    "        samples = [random.randint(0, 1) for c in range(2)]\n",
    "                \n",
    "        if initial_coin_state == 'Heads':\n",
    "            if samples[0] == 1 and samples [1] == 1 or samples[0] == 0 and samples [1] == 0:\n",
    "                coin_results[c] = 0; \n",
    "            elif samples[0] == 1 and samples [1] == 0 or samples[0] == 0 and samples [1] == 1:\n",
    "                coin_results[c] = 1; \n",
    "        elif initial_coin_state == 'Tails':\n",
    "            if samples[0] == 1 and samples [1] == 1 or samples[0] == 0 and samples [1] == 0:\n",
    "                coin_results[c] = 1; \n",
    "            elif samples[0] == 1 and samples [1] == 0 or samples[0] == 0 and samples [1] == 1:\n",
    "                coin_results[c] = 0;                 \n",
    "        \n",
    "    heads = coin_results.count(0);\n",
    "    tails = coin_results.count(1);\n",
    "    \n",
    "    print(\"Heads count=%d, Tails count=%d\" % (heads, tails))\n",
    "    \n",
    "    names = ['Heads', 'Tails']\n",
    "        \n",
    "    values = [heads/nr_of_flips, tails/nr_of_flips]\n",
    "    plt.bar(names, values)\n",
    "    plt.ylabel('Probability')"
   ]
  },
  {
   "cell_type": "code",
   "execution_count": 8,
   "id": "d5c7f65c-8c88-4cbd-80e3-5ff297c0f4d3",
   "metadata": {},
   "outputs": [
    {
     "name": "stdin",
     "output_type": "stream",
     "text": [
      "Type \"Heads\" or \"Tails\" to select the inital coin state:  Heads\n",
      "Enter the number of times you want to repeat the coin toss game:  10000\n"
     ]
    },
    {
     "name": "stdout",
     "output_type": "stream",
     "text": [
      "Heads count=4991, Tails count=5009\n"
     ]
    },
    {
     "data": {
      "image/png": "[encoded data removed]",
      "text/plain": [
       "<Figure size 432x288 with 1 Axes>"
      ]
     },
     "metadata": {
      "needs_background": "light"
     },
     "output_type": "display_data"
    }
   ],
   "source": [
    "double_coin_toss()"
   ]
  },
  {
   "cell_type": "code",
   "execution_count": 9,
   "id": "6ebffbe7-0910-44a2-9eb2-a28344db4fd7",
   "metadata": {},
   "outputs": [],
   "source": [
    "from qiskit import QuantumCircuit, execute, Aer, IBMQ\n",
    "from qiskit.tools.monitor import job_monitor\n",
    "\n",
    "# Import visualization\n",
    "from qiskit.visualization import plot_histogram, plot_bloch_multivector\n",
    "import matplotlib.pyplot as plt\n",
    "\n",
    "#Load account information \n",
    "IBMQ.load_account()\n",
    "provider = IBMQ.get_provider()"
   ]
  },
  {
   "cell_type": "code",
   "execution_count": 10,
   "id": "6cf4637a-d199-4c12-be34-c9fbc43237b8",
   "metadata": {},
   "outputs": [],
   "source": [
    "def single_quantum_coin_toss(): \n",
    "    qc1 = QuantumCircuit(1,1)\n",
    "    \n",
    "    initial_coin_state = input('Type \"Heads\" or \"Tails\" to select the inital coin state: ')\n",
    "    \n",
    "    nr_of_flips = int(input('Enter the number of times you want to repeat the coin toss game: '))\n",
    "    \n",
    "    if initial_coin_state == \"Heads\": \n",
    "        qc1.h(0) #A Hadamard gate that creates a superposition\n",
    "        qc1.measure(0,0)\n",
    "    elif initial_coin_state == \"Tails\": \n",
    "        qc1.x(0) #Change qubit from Heads to Tails \n",
    "        qc1.h(0) #A Hadamard gate that creates a superposition\n",
    "        qc1.measure(0,0)    \n",
    "\n",
    "    backend = Aer.get_backend('qasm_simulator')\n",
    "\n",
    "    job = execute(qc1, backend, shots=nr_of_flips)\n",
    "\n",
    "    print(job.result().get_counts())"
   ]
  },
  {
   "cell_type": "code",
   "execution_count": 11,
   "id": "a5563028-8c07-41ab-b01b-a9a31a6314e4",
   "metadata": {},
   "outputs": [
    {
     "name": "stdin",
     "output_type": "stream",
     "text": [
      "Type \"Heads\" or \"Tails\" to select the inital coin state:  Heads\n",
      "Enter the number of times you want to repeat the coin toss game:  10000\n"
     ]
    },
    {
     "name": "stderr",
     "output_type": "stream",
     "text": [
      "<frozen importlib._bootstrap>:219: RuntimeWarning: scipy._lib.messagestream.MessageStream size changed, may indicate binary incompatibility. Expected 56 from C header, got 64 from PyObject\n"
     ]
    },
    {
     "name": "stdout",
     "output_type": "stream",
     "text": [
      "{'1': 5036, '0': 4964}\n"
     ]
    }
   ],
   "source": [
    "single_quantum_coin_toss()"
   ]
  },
  {
   "cell_type": "code",
   "execution_count": 12,
   "id": "47adb4f1-22d1-426e-88f4-faa4a685a8d6",
   "metadata": {},
   "outputs": [
    {
     "data": {
      "text/plain": [
       "Text(0, 0.5, 'Probability')"
      ]
     },
     "execution_count": 12,
     "metadata": {},
     "output_type": "execute_result"
    },
    {
     "data": {
      "image/png": "[encoded data removed]",
      "text/plain": [
       "<Figure size 432x288 with 1 Axes>"
      ]
     },
     "metadata": {
      "needs_background": "light"
     },
     "output_type": "display_data"
    }
   ],
   "source": [
    "names = ['Heads', 'Tails']\n",
    "        \n",
    "values = [5036/10000, 4964/10000] \n",
    "\n",
    "plt.bar(names, values)\n",
    "plt.ylabel('Probability')"
   ]
  },
  {
   "cell_type": "code",
   "execution_count": 13,
   "id": "285dba3d-e1c9-45ab-a35e-1884ca872fc4",
   "metadata": {},
   "outputs": [],
   "source": [
    "def double_quantum_coin_toss(): \n",
    "    qc1 = QuantumCircuit(1,1)\n",
    "    \n",
    "    initial_coin_state = input('Type \"Heads\" or \"Tails\" to select the inital coin state: ')\n",
    "    \n",
    "    nr_of_flips = int(input('Enter the number of times you want to repeat the coin toss game: '))\n",
    "    \n",
    "    if initial_coin_state == \"Heads\": \n",
    "        qc1.h(0) #A Hadamard gate that creates a superposition\n",
    "        qc1.h(0) #A Hadamard gate that creates a superposition\n",
    "        qc1.measure(0,0)\n",
    "    elif initial_coin_state == \"Tails\": \n",
    "        qc1.x(0) #Change qubit to Tails \n",
    "        qc1.h(0) #A Hadamard gate that creates a superposition\n",
    "        qc1.h(0) #A Hadamard gate that creates a superposition\n",
    "        qc1.measure(0,0)\n",
    "              \n",
    "    backend = Aer.get_backend('qasm_simulator')\n",
    "\n",
    "    job = execute(qc1, backend, shots=nr_of_flips)\n",
    "    \n",
    "    result = job.result().get_counts()\n",
    "    \n",
    "    print(job.result().get_counts())"
   ]
  },
  {
   "cell_type": "code",
   "execution_count": 14,
   "id": "2a050318-d3d4-411c-a953-51941151e5db",
   "metadata": {},
   "outputs": [
    {
     "name": "stdin",
     "output_type": "stream",
     "text": [
      "Type \"Heads\" or \"Tails\" to select the inital coin state:  Heads\n",
      "Enter the number of times you want to repeat the coin toss game:  10000\n"
     ]
    },
    {
     "name": "stdout",
     "output_type": "stream",
     "text": [
      "{'0': 10000}\n"
     ]
    }
   ],
   "source": [
    "double_quantum_coin_toss()"
   ]
  },
  {
   "cell_type": "code",
   "execution_count": 15,
   "id": "3e7ce9c9-d7f3-4dfc-83ef-4b6fb4b28e79",
   "metadata": {},
   "outputs": [
    {
     "data": {
      "text/plain": [
       "Text(0, 0.5, 'Probability')"
      ]
     },
     "execution_count": 15,
     "metadata": {},
     "output_type": "execute_result"
    },
    {
     "data": {
      "image/png": "[encoded data removed]",
      "text/plain": [
       "<Figure size 432x288 with 1 Axes>"
      ]
     },
     "metadata": {
      "needs_background": "light"
     },
     "output_type": "display_data"
    }
   ],
   "source": [
    "names = ['Heads', 'Tails']\n",
    "        \n",
    "values = [10000/10000, 0/10000]\n",
    "\n",
    "plt.bar(names, values)\n",
    "plt.ylabel('Probability')"
   ]
  },
  {
   "cell_type": "code",
   "execution_count": null,
   "id": "b2b92cba-4f78-4944-8f46-21e792b000d3",
   "metadata": {},
   "outputs": [],
   "source": []
  }
 ],
 "metadata": {
  "kernelspec": {
   "display_name": "Qiskit v0.35.0 (ipykernel)",
   "language": "python",
   "name": "python3"
  },
  "language_info": {
   "codemirror_mode": {
    "name": "ipython",
    "version": 3
   },
   "file_extension": ".py",
   "mimetype": "text/x-python",
   "name": "python",
   "nbconvert_exporter": "python",
   "pygments_lexer": "ipython3",
   "version": "3.8.13"
  },
  "widgets": {
   "application/vnd.jupyter.widget-state+json": {
    "state": {},
    "version_major": 2,
    "version_minor": 0
   }
  }
 },
 "nbformat": 4,
 "nbformat_minor": 5
}
